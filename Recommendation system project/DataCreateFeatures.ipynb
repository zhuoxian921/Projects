{
 "cells": [
  {
   "cell_type": "code",
   "execution_count": null,
   "id": "696e3dae-02e9-455c-b3e9-7638a000921b",
   "metadata": {},
   "outputs": [],
   "source": [
    "from node2vec import Node2Vec\n",
    "import networkx as nx\n",
    "from gensim.models import KeyedVectors\n",
    "import community\n",
    "import numpy as np\n",
    "import pandas as pd\n",
    "from stellargraph import StellarGraph, datasets\n",
    "from stellargraph.data import EdgeSplitter\n",
    "import multiprocessing\n",
    "from sklearn.model_selection import train_test_split\n",
    "from tqdm import tqdm"
   ]
  },
  {
   "cell_type": "code",
   "execution_count": null,
   "id": "a47c39b5-85a2-40ae-a9b8-5756215a6241",
   "metadata": {},
   "outputs": [],
   "source": [
    "graph_train_pos_nodes = np.load('data/graph_train_pos_nodes.npy')\n",
    "graph_train_pos_edges = np.load('data/graph_train_pos_edges.npy')\n",
    "edge_test = np.load('data/edge_test.npy')\n",
    "label_test = np.load('data/label_test.npy')\n",
    "edge_val = np.load('data/edge_val.npy')\n",
    "label_val = np.load('data/label_val.npy')\n",
    "edge_train = np.load('data/edge_train.npy')\n",
    "label_train = np.load('data/label_train.npy')\n",
    "graph_train_pos = nx.Graph()\n",
    "graph_train_pos.add_nodes_from(graph_train_pos_nodes)\n",
    "graph_train_pos.add_edges_from(graph_train_pos_edges)"
   ]
  },
  {
   "cell_type": "code",
   "execution_count": null,
   "id": "2428ba7c-074c-46cd-8ad1-a88a452b6caf",
   "metadata": {},
   "outputs": [],
   "source": [
    "partition = community.best_partition(graph_train_pos)\n",
    "for x in graph_train_pos.nodes():\n",
    "    graph_train_pos.nodes[x]['community'] = partition[x]\n",
    "\n",
    "def calculate_edge_coef(graph_train_pos, edge_posneg):\n",
    "    rai = np.fromiter((i[2] for i in nx.resource_allocation_index(graph_train_pos, edge_posneg)), dtype=float)\n",
    "    jc = np.fromiter((i[2] for i in nx.jaccard_coefficient(graph_train_pos, edge_posneg)), dtype=float)\n",
    "    pa = np.fromiter((i[2] for i in nx.preferential_attachment(graph_train_pos, edge_posneg)), dtype=float)\n",
    "\n",
    "    cn_sh = np.fromiter((i[2] for i in nx.cn_soundarajan_hopcroft(graph_train_pos, edge_posneg)), dtype=float)\n",
    "    ra_idx_sh = np.fromiter((i[2] for i in nx.ra_index_soundarajan_hopcroft(graph_train_pos, edge_posneg)), dtype=float)\n",
    "    wic = np.fromiter((i[2] for i in nx.within_inter_cluster(graph_train_pos, edge_posneg)), dtype=float)\n",
    "\n",
    "    X = np.vstack((rai, jc, pa, cn_sh, ra_idx_sh, wic)).T\n",
    "    return X"
   ]
  },
  {
   "cell_type": "code",
   "execution_count": null,
   "id": "e51a4e83-bb4c-4a86-b4d8-b615591e7d9d",
   "metadata": {},
   "outputs": [],
   "source": [
    "X_train = calculate_edge_coef(graph_train_pos, edge_train)\n",
    "X_val = calculate_edge_coef(graph_train_pos, edge_val)\n",
    "X_test = calculate_edge_coef(graph_train_pos, edge_test)\n",
    "\n",
    "np.save('data/edge_test_coef',X_test)\n",
    "np.save('data/edge_val_coef',X_val)\n",
    "np.save('data/edge_train_coef',X_train)"
   ]
  },
  {
   "cell_type": "code",
   "execution_count": null,
   "id": "297aeee3-d462-4a7c-9f66-6f00b697e17e",
   "metadata": {},
   "outputs": [],
   "source": []
  },
  {
   "cell_type": "code",
   "execution_count": 2,
   "id": "a92c92fe-45b8-47ee-b19b-0a7a4c289fb5",
   "metadata": {},
   "outputs": [
    {
     "data": {
      "application/vnd.jupyter.widget-view+json": {
       "model_id": "0d6d2a67364243f088ad1d88e3dd798b",
       "version_major": 2,
       "version_minor": 0
      },
      "text/plain": [
       "Computing transition probabilities:   0%|          | 0/37700 [00:00<?, ?it/s]"
      ]
     },
     "metadata": {},
     "output_type": "display_data"
    },
    {
     "name": "stderr",
     "output_type": "stream",
     "text": [
      "Generating walks (CPU: 1): 100%|██████████████████████████████████████████████████████| 10/10 [27:04<00:00, 162.49s/it]\n"
     ]
    }
   ],
   "source": [
    "node2vec = Node2Vec(graph_train_pos, workers=1)\n",
    "embedding_model = node2vec.fit(window=10, min_count=1, batch_words=4)\n",
    "embedding_model.wv.save_word2vec_format('data/graph_train_pos_embedding.emb')\n",
    "graph_train_pos_embedding = KeyedVectors.load_word2vec_format('data/graph_train_pos_embedding.emb')"
   ]
  }
 ],
 "metadata": {
  "kernelspec": {
   "display_name": "Python 3",
   "language": "python",
   "name": "python3"
  },
  "language_info": {
   "codemirror_mode": {
    "name": "ipython",
    "version": 3
   },
   "file_extension": ".py",
   "mimetype": "text/x-python",
   "name": "python",
   "nbconvert_exporter": "python",
   "pygments_lexer": "ipython3",
   "version": "3.8.8"
  }
 },
 "nbformat": 4,
 "nbformat_minor": 5
}
