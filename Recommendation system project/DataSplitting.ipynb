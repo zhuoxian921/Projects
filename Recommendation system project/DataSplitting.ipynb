{
 "cells": [
  {
   "cell_type": "code",
   "execution_count": 2,
   "id": "40d904d1-3684-422f-bc22-3d12901bc22f",
   "metadata": {},
   "outputs": [],
   "source": [
    "from node2vec import Node2Vec\n",
    "import networkx as nx\n",
    "from gensim.models import KeyedVectors\n",
    "import community\n",
    "import numpy as np\n",
    "import pandas as pd\n",
    "from stellargraph import StellarGraph, datasets\n",
    "from stellargraph.data import EdgeSplitter\n",
    "import multiprocessing\n",
    "from sklearn.model_selection import train_test_split\n",
    "from tqdm import tqdm"
   ]
  },
  {
   "cell_type": "code",
   "execution_count": 22,
   "id": "d637bc3d-563a-4e9a-a329-c4db5b20a397",
   "metadata": {},
   "outputs": [
    {
     "name": "stdout",
     "output_type": "stream",
     "text": [
      "** Sampled 234092 positive and 234092 negative edges. **\n"
     ]
    }
   ],
   "source": [
    "g_edges = pd.read_csv('data/musae_git_edges.csv')\n",
    "G = nx.from_pandas_edgelist(g_edges, source=\"id_1\", target=\"id_2\", create_using=nx.Graph())\n",
    "g_nodes = G.nodes()\n",
    "\n",
    "edge_splitter_train_test = EdgeSplitter(G)\n",
    "graph_train, edge_test, label_test = edge_splitter_train_test.train_test_split(p=0.1, method=\"global\")\n",
    "\n",
    "edge_splitter_train_val = EdgeSplitter(graph_train)\n",
    "graph_train_pos, edge_val, label_val = edge_splitter_train_val.train_test_split(p=0.1, method=\"global\")\n",
    "\n",
    "edge_splitter_train = EdgeSplitter(graph_train_pos)\n",
    "temp, edge_train, label_train = edge_splitter_train.train_test_split(p=0.9999999999, method=\"global\")"
   ]
  },
  {
   "cell_type": "code",
   "execution_count": null,
   "id": "ab427973-dc59-4584-b1e8-57a47ea3dd2f",
   "metadata": {},
   "outputs": [],
   "source": [
    "np.save('data/graph_train_pos_nodes.npy', graph_train_pos_nodes)\n",
    "np.save('data/graph_train_pos_edges.npy', graph_train_pos_edges)\n",
    "np.save('data/edge_test.npy', edge_test)\n",
    "np.save('data/label_test.npy', label_test)\n",
    "np.save('data/edge_val.npy', edge_val)\n",
    "np.save('data/label_val.npy', label_val)\n",
    "np.save('data/edge_train.npy', edge_train)\n",
    "np.save('data/label_train.npy', label_train)"
   ]
  },
  {
   "cell_type": "code",
   "execution_count": null,
   "id": "cd131fac-93c1-4597-970d-e82fc482ec1a",
   "metadata": {},
   "outputs": [],
   "source": []
  },
  {
   "cell_type": "code",
   "execution_count": 3,
   "id": "30f8dbdf-5621-4a56-a71e-7dd928e77aaa",
   "metadata": {},
   "outputs": [],
   "source": []
  },
  {
   "cell_type": "code",
   "execution_count": 4,
   "id": "2ff18265-e497-45de-a088-beae5ce4e65f",
   "metadata": {},
   "outputs": [],
   "source": []
  },
  {
   "cell_type": "code",
   "execution_count": 5,
   "id": "122bda89-c2c4-45b3-a159-ba1dfa7797d1",
   "metadata": {},
   "outputs": [],
   "source": []
  },
  {
   "cell_type": "code",
   "execution_count": null,
   "id": "68694a9f-1bb8-4433-9e7f-517eda6a7de4",
   "metadata": {},
   "outputs": [],
   "source": []
  }
 ],
 "metadata": {
  "kernelspec": {
   "display_name": "Python 3",
   "language": "python",
   "name": "python3"
  },
  "language_info": {
   "codemirror_mode": {
    "name": "ipython",
    "version": 3
   },
   "file_extension": ".py",
   "mimetype": "text/x-python",
   "name": "python",
   "nbconvert_exporter": "python",
   "pygments_lexer": "ipython3",
   "version": "3.8.8"
  }
 },
 "nbformat": 4,
 "nbformat_minor": 5
}
