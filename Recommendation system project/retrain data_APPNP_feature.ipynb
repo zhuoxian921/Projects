{
 "cells": [
  {
   "cell_type": "markdown",
   "id": "7c032ec6",
   "metadata": {},
   "source": [
    "MSBD5008 Group Project \n",
    "\n",
    "Node Classification\n",
    " \n",
    "------------------------"
   ]
  },
  {
   "cell_type": "code",
   "execution_count": 1,
   "id": "388caf5e",
   "metadata": {},
   "outputs": [],
   "source": [
    "import networkx as nx\n",
    "\n",
    "import matplotlib.pyplot as plt\n",
    "import numpy as np\n",
    "import pandas as pd\n",
    "import json"
   ]
  },
  {
   "cell_type": "markdown",
   "id": "21368315",
   "metadata": {},
   "source": [
    "# 1. Data Loading and Preprocessing"
   ]
  },
  {
   "cell_type": "code",
   "execution_count": 2,
   "id": "4481af64",
   "metadata": {},
   "outputs": [],
   "source": [
    "graph_train_pos_nodes = np.load('./retraindata/graph_train_pos_nodes.npy')\n",
    "graph_train_pos_edges = np.load('./retraindata/graph_train_pos_edges.npy')\n",
    "graph_train_pos = nx.Graph()\n",
    "graph_train_pos.add_nodes_from(graph_train_pos_nodes)\n",
    "graph_train_pos.add_edges_from(graph_train_pos_edges)"
   ]
  },
  {
   "cell_type": "code",
   "execution_count": 3,
   "id": "05dc98e3",
   "metadata": {},
   "outputs": [],
   "source": [
    "# from gensim.models import KeyedVectors\n",
    "# embedding = KeyedVectors.load_word2vec_format(\"./retraindata/graph_train_pos.bin\")\n",
    "# node_embedding = []\n",
    "# for i in range(graph_train_pos.number_of_nodes()):\n",
    "#     emb = embedding[str(i)]\n",
    "#     node_embedding.append(emb)"
   ]
  },
  {
   "cell_type": "code",
   "execution_count": 4,
   "id": "52adca4e",
   "metadata": {},
   "outputs": [
    {
     "data": {
      "text/plain": [
       "'Graph with 37700 nodes and 234093 edges'"
      ]
     },
     "execution_count": 4,
     "metadata": {},
     "output_type": "execute_result"
    }
   ],
   "source": [
    "nx_G = graph_train_pos\n",
    "nx.info(nx_G)"
   ]
  },
  {
   "cell_type": "code",
   "execution_count": 5,
   "id": "4b00a9ef",
   "metadata": {},
   "outputs": [
    {
     "data": {
      "text/html": [
       "<div>\n",
       "<style scoped>\n",
       "    .dataframe tbody tr th:only-of-type {\n",
       "        vertical-align: middle;\n",
       "    }\n",
       "\n",
       "    .dataframe tbody tr th {\n",
       "        vertical-align: top;\n",
       "    }\n",
       "\n",
       "    .dataframe thead th {\n",
       "        text-align: right;\n",
       "    }\n",
       "</style>\n",
       "<table border=\"1\" class=\"dataframe\">\n",
       "  <thead>\n",
       "    <tr style=\"text-align: right;\">\n",
       "      <th></th>\n",
       "      <th>id</th>\n",
       "      <th>name</th>\n",
       "      <th>ml_target</th>\n",
       "    </tr>\n",
       "  </thead>\n",
       "  <tbody>\n",
       "    <tr>\n",
       "      <th>0</th>\n",
       "      <td>0</td>\n",
       "      <td>Eiryyy</td>\n",
       "      <td>0</td>\n",
       "    </tr>\n",
       "    <tr>\n",
       "      <th>1</th>\n",
       "      <td>1</td>\n",
       "      <td>shawflying</td>\n",
       "      <td>0</td>\n",
       "    </tr>\n",
       "    <tr>\n",
       "      <th>2</th>\n",
       "      <td>2</td>\n",
       "      <td>JpMCarrilho</td>\n",
       "      <td>1</td>\n",
       "    </tr>\n",
       "    <tr>\n",
       "      <th>3</th>\n",
       "      <td>3</td>\n",
       "      <td>SuhwanCha</td>\n",
       "      <td>0</td>\n",
       "    </tr>\n",
       "    <tr>\n",
       "      <th>4</th>\n",
       "      <td>4</td>\n",
       "      <td>sunilangadi2</td>\n",
       "      <td>1</td>\n",
       "    </tr>\n",
       "  </tbody>\n",
       "</table>\n",
       "</div>"
      ],
      "text/plain": [
       "   id          name  ml_target\n",
       "0   0        Eiryyy          0\n",
       "1   1    shawflying          0\n",
       "2   2   JpMCarrilho          1\n",
       "3   3     SuhwanCha          0\n",
       "4   4  sunilangadi2          1"
      ]
     },
     "execution_count": 5,
     "metadata": {},
     "output_type": "execute_result"
    }
   ],
   "source": [
    "target = pd.read_csv(\"./git_web_ml/musae_git_target.csv\")\n",
    "target.head()"
   ]
  },
  {
   "cell_type": "code",
   "execution_count": 6,
   "id": "a0f127e9",
   "metadata": {},
   "outputs": [],
   "source": [
    "labels = target['ml_target'].to_list()"
   ]
  },
  {
   "cell_type": "code",
   "execution_count": 7,
   "id": "61549242",
   "metadata": {},
   "outputs": [],
   "source": [
    "## features\n",
    "with open(\"./git_web_ml/musae_git_features.json\") as f:\n",
    "    features = json.load(f)\n",
    "\n",
    "# convert keys from string to int\n",
    "features = {int(k):v for k,v in features.items()}   \n",
    "\n",
    "# feature array\n",
    "feature_arr = np.zeros([37700, 4005])\n",
    "for i in range(len(features)):\n",
    "    feature_arr[i][features[i]]=1\n",
    "\n",
    "# dimensionality reduction\n",
    "from sklearn.decomposition import TruncatedSVD\n",
    "from scipy.sparse import csr_matrix\n",
    "import numpy as np\n",
    "np.random.seed(0)\n",
    "\n"
   ]
  },
  {
   "cell_type": "code",
   "execution_count": 23,
   "id": "f81a51ca",
   "metadata": {},
   "outputs": [],
   "source": [
    "X = csr_matrix(feature_arr)\n",
    "svd = TruncatedSVD(n_components=128, random_state=42)\n",
    "reduced_features = svd.fit_transform(X)\n",
    "\n",
    "# save \n",
    "np.save(\"features_preprocessed_128.npy\", reduced_features)"
   ]
  },
  {
   "cell_type": "code",
   "execution_count": 27,
   "id": "1ce47a6b",
   "metadata": {},
   "outputs": [],
   "source": [
    "reduced_features = np.load(\"features_preprocessed_128.npy\")"
   ]
  },
  {
   "cell_type": "markdown",
   "id": "9b8f6957",
   "metadata": {},
   "source": [
    "# 2. DGL Graph"
   ]
  },
  {
   "cell_type": "code",
   "execution_count": 9,
   "id": "51f8795f",
   "metadata": {},
   "outputs": [
    {
     "name": "stderr",
     "output_type": "stream",
     "text": [
      "Using backend: pytorch\n"
     ]
    }
   ],
   "source": [
    "import torch\n",
    "import torch.nn as nn\n",
    "import torch.nn.functional as F\n",
    "import torch.optim as optim\n",
    "\n",
    "import dgl\n",
    "from dgl.nn import GINConv"
   ]
  },
  {
   "cell_type": "code",
   "execution_count": 10,
   "id": "f29ce17c",
   "metadata": {},
   "outputs": [],
   "source": [
    "dgl_G = dgl.from_networkx(nx_G)"
   ]
  },
  {
   "cell_type": "markdown",
   "id": "a11352d1",
   "metadata": {},
   "source": [
    "# 3. Split Dataset\n",
    "80% training |\n",
    "10% validation |\n",
    "10% test"
   ]
  },
  {
   "cell_type": "code",
   "execution_count": 11,
   "id": "661ab828",
   "metadata": {},
   "outputs": [],
   "source": [
    "num_nodes = 37700\n",
    "mask = np.ones(num_nodes)\n",
    "test_size = int(np.round(0.1*num_nodes))\n",
    "mask[:test_size] = 2 # val\n",
    "mask[test_size:2*test_size] = 3 # test\n",
    "np.random.seed(5008)\n",
    "np.random.shuffle(mask)\n",
    "\n",
    "train_nodes = np.where(mask==1)\n",
    "val_nodes = np.where(mask==2)\n",
    "test_nodes = np.where(mask==3)\n",
    "\n",
    "train_mask = np.zeros(num_nodes)\n",
    "train_mask[train_nodes] = 1\n",
    "train_mask = train_mask.astype(bool)\n",
    "\n",
    "val_mask = np.zeros(num_nodes)\n",
    "val_mask[val_nodes] = 1\n",
    "val_mask = val_mask.astype(bool)\n",
    "\n",
    "test_mask = np.zeros(num_nodes)\n",
    "test_mask[test_nodes] = 1\n",
    "test_mask = test_mask.astype(bool)"
   ]
  },
  {
   "cell_type": "markdown",
   "id": "0270874d",
   "metadata": {},
   "source": [
    "# 4. Train model\n",
    "## 4.1 Training & Evaluation Functions"
   ]
  },
  {
   "cell_type": "code",
   "execution_count": 12,
   "id": "7242cf55",
   "metadata": {},
   "outputs": [],
   "source": [
    "import warnings\n",
    "warnings.filterwarnings(\"ignore\")\n",
    "\n",
    "def validate(model, features, labels, val_mask):\n",
    "    # set evaluation mode\n",
    "    model.eval()\n",
    "    with torch.no_grad():\n",
    "        \n",
    "        # features = torch.tensor(features, dtype=torch.float).to(device)\n",
    "        # labels = torch.tensor(labels, dtype=torch.long).to(device)\n",
    "        \n",
    "        logits = model(features)\n",
    "        test_mask_logits = logits[val_mask]\n",
    "        predict_y = test_mask_logits.max(1)[1]\n",
    "        accuracy = torch.eq(predict_y, labels[val_mask]).float().mean()\n",
    "\n",
    "    return accuracy\n",
    "\n",
    "def train(model, features, labels, train_mask, val_mask, best_val_acc=0):\n",
    "    model.train()\n",
    "    for epoch in range(201):\n",
    "            \n",
    "        features = torch.tensor(features, dtype=torch.float).to(device)\n",
    "        labels = torch.tensor(labels, dtype=torch.long).to(device)\n",
    "    \n",
    "        # forward pass\n",
    "        logits = model(features) # num_nodes-by-out_dim\n",
    "        # calculate the cross-entropy loss for classification tasks\n",
    "        preds = F.log_softmax(logits, 1)\n",
    "        loss = F.nll_loss(preds[train_mask], labels[train_mask])  # nll: Negative log-likelihood \n",
    "        \n",
    "        # clear the gradients of all optimized variables\n",
    "        optimizer.zero_grad()\n",
    "        # backward pass: compute gradients of the loss with respect to model parameters\n",
    "        loss.backward()\n",
    "        # perform a single optimization step\n",
    "        optimizer.step()\n",
    "\n",
    "        \n",
    "        if epoch%10==0:\n",
    "            accuracy = validate(model, features, labels, val_mask)            \n",
    "            print(\"Epoch {}: Training Loss {} | Validation Accuracy {}\".format(epoch, loss.item(), accuracy.item()))\n",
    "            if accuracy > best_val_acc: # update best performing model\n",
    "                best_val_acc = accuracy\n",
    "                save_checkpoint(\"best_model.pth\", model)\n",
    "                \n",
    "                \n",
    "\n",
    "def save_checkpoint(checkpoint_path, model):\n",
    "    # state_dict: a Python dictionary object that:\n",
    "    # - for a model, maps each layer to its parameter tensor;\n",
    "    state = {'state_dict': model.state_dict()}\n",
    "    torch.save(state, checkpoint_path)\n",
    "    print('model saved to %s' % checkpoint_path)\n",
    "\n",
    "def load_checkpoint(checkpoint_path, model):\n",
    "    state = torch.load(checkpoint_path)\n",
    "    model.load_state_dict(state['state_dict'])\n",
    "    print('model loaded from %s' % checkpoint_path)\n",
    "    \n",
    "def test(model, features, labels, test_mask):\n",
    "    # set evaluation mode\n",
    "    model.eval()\n",
    "    with torch.no_grad():\n",
    "        \n",
    "        features = torch.tensor(features, dtype=torch.float).to(device)\n",
    "        labels = torch.tensor(labels, dtype=torch.long).to(device)\n",
    "        \n",
    "        logits = model(features)\n",
    "        test_mask_logits = logits[val_mask]\n",
    "        predict_y = test_mask_logits.max(1)[1]\n",
    "        accuracy = torch.eq(predict_y, labels[val_mask]).float().mean()\n",
    "    return accuracy.item(), predict_y"
   ]
  },
  {
   "cell_type": "markdown",
   "id": "4eeecef0",
   "metadata": {},
   "source": [
    "## 4.2 Design, Train and Evaluate Model"
   ]
  },
  {
   "cell_type": "code",
   "execution_count": 13,
   "id": "71f7ef7c",
   "metadata": {},
   "outputs": [],
   "source": [
    "learning_rate = 0.001\n",
    "use_cuda = torch.cuda.is_available()\n",
    "device = torch.device(\"cuda\" if use_cuda else \"cpu\")"
   ]
  },
  {
   "cell_type": "code",
   "execution_count": 28,
   "id": "1dccc6ac",
   "metadata": {},
   "outputs": [],
   "source": [
    "from dgl.nn.pytorch.conv import APPNPConv\n",
    "\n",
    "class GraphNetwork_APPNP(nn.Module):\n",
    "    def __init__(self, g, in_dim, out_dim):\n",
    "        super(GraphNetwork_APPNP, self).__init__()\n",
    "        self.g = g\n",
    "        hidden_dim_1 = 256\n",
    "        hidden_dim_2 = 256\n",
    "        hidden_dim_3 = 256\n",
    "        hidden_dim_4 = 256\n",
    "        self.dropout = nn.Dropout(0.5)\n",
    "        self.layer1 = nn.Linear(in_dim,hidden_dim_1)\n",
    "        self.layer2 = nn.Linear(hidden_dim_1, hidden_dim_2)\n",
    "        self.layer3 = nn.Linear(hidden_dim_2, hidden_dim_3)\n",
    "        self.layer4 = nn.Linear(hidden_dim_3, hidden_dim_4)\n",
    "        self.layer_out = nn.Linear(hidden_dim_4, out_dim)\n",
    "        self.propagate = APPNPConv(k=10, alpha=0.1, edge_drop=5e-4)\n",
    "\n",
    "    def forward(self, h):\n",
    "        # input params: dglGraph, features;\n",
    "        h = self.dropout(h)\n",
    "        h = self.layer1(h)\n",
    "        h = F.relu(h)\n",
    "        h = self.layer2(h)\n",
    "        h = F.relu(h)\n",
    "        h = self.layer3(h)\n",
    "        h = F.relu(h)\n",
    "        h = self.layer4(h)\n",
    "        h = F.relu(h)\n",
    "        h = self.dropout(h)\n",
    "        h = self.layer_out(h)\n",
    "        h = self.propagate(self.g, h)\n",
    "        return h\n",
    "\n"
   ]
  },
  {
   "cell_type": "code",
   "execution_count": 29,
   "id": "bb7916ee",
   "metadata": {},
   "outputs": [
    {
     "name": "stdout",
     "output_type": "stream",
     "text": [
      "Epoch 0: Training Loss 0.6820642352104187 | Validation Accuracy 0.7389920353889465\n",
      "model saved to best_model.pth\n",
      "Epoch 10: Training Loss 0.5830787420272827 | Validation Accuracy 0.7389920353889465\n",
      "Epoch 20: Training Loss 0.5538305044174194 | Validation Accuracy 0.7389920353889465\n",
      "Epoch 30: Training Loss 0.5299922823905945 | Validation Accuracy 0.7389920353889465\n",
      "Epoch 40: Training Loss 0.5055468082427979 | Validation Accuracy 0.7389920353889465\n",
      "Epoch 50: Training Loss 0.48430687189102173 | Validation Accuracy 0.7389920353889465\n",
      "Epoch 60: Training Loss 0.4651927649974823 | Validation Accuracy 0.7389920353889465\n",
      "Epoch 70: Training Loss 0.44780975580215454 | Validation Accuracy 0.7424403429031372\n",
      "model saved to best_model.pth\n",
      "Epoch 80: Training Loss 0.4141197204589844 | Validation Accuracy 0.7758620977401733\n",
      "model saved to best_model.pth\n",
      "Epoch 90: Training Loss 0.3419046998023987 | Validation Accuracy 0.8435013294219971\n",
      "model saved to best_model.pth\n",
      "Epoch 100: Training Loss 0.328065425157547 | Validation Accuracy 0.8599469661712646\n",
      "model saved to best_model.pth\n",
      "Epoch 110: Training Loss 0.31389495730400085 | Validation Accuracy 0.8594164252281189\n",
      "Epoch 120: Training Loss 0.30804166197776794 | Validation Accuracy 0.8596817255020142\n",
      "Epoch 130: Training Loss 0.3017551302909851 | Validation Accuracy 0.8612732291221619\n",
      "model saved to best_model.pth\n",
      "Epoch 140: Training Loss 0.2958546578884125 | Validation Accuracy 0.8615384697914124\n",
      "model saved to best_model.pth\n",
      "Epoch 150: Training Loss 0.2888123393058777 | Validation Accuracy 0.8615384697914124\n",
      "Epoch 160: Training Loss 0.28143736720085144 | Validation Accuracy 0.8604774475097656\n",
      "Epoch 170: Training Loss 0.27632179856300354 | Validation Accuracy 0.844031810760498\n",
      "Epoch 180: Training Loss 0.2724524140357971 | Validation Accuracy 0.8575596809387207\n",
      "Epoch 190: Training Loss 0.26185864210128784 | Validation Accuracy 0.855968177318573\n",
      "Epoch 200: Training Loss 0.2545471787452698 | Validation Accuracy 0.8496021032333374\n"
     ]
    }
   ],
   "source": [
    "dgl_G = dgl_G.to(device) # move to cuda\n",
    "\n",
    "model = GraphNetwork_APPNP(dgl_G, in_dim=128, out_dim=2)\n",
    "model = model.to(device)\n",
    "\n",
    "optimizer = optim.Adam(model.parameters(), lr=learning_rate)\n",
    "train(model, reduced_features, labels, train_mask, val_mask)"
   ]
  },
  {
   "cell_type": "markdown",
   "id": "9c9d567f",
   "metadata": {},
   "source": [
    "# 5. Final Testing"
   ]
  },
  {
   "cell_type": "code",
   "execution_count": 30,
   "id": "e774f5a0",
   "metadata": {},
   "outputs": [
    {
     "name": "stdout",
     "output_type": "stream",
     "text": [
      "model loaded from best_model.pth\n",
      "Testing Acc 0.8615\n"
     ]
    }
   ],
   "source": [
    "dgl_G = dgl_G.to(device)\n",
    "model = GraphNetwork_APPNP(dgl_G, in_dim=128, out_dim=2)\n",
    "model = model.to(device)\n",
    "load_checkpoint(\"best_model.pth\", model)\n",
    "accuracy, pred = test(model, reduced_features, labels, test_mask)\n",
    "print(\"Testing Acc {:.4}\".format(accuracy))"
   ]
  },
  {
   "cell_type": "code",
   "execution_count": 31,
   "id": "b2a0a652",
   "metadata": {},
   "outputs": [],
   "source": [
    "pred_arr = np.array(pred.cpu())\n",
    "# np.save(\"pred_label.npy\", pred_arr)"
   ]
  },
  {
   "cell_type": "code",
   "execution_count": 22,
   "id": "a04fcacd",
   "metadata": {},
   "outputs": [
    {
     "data": {
      "text/plain": [
       "(3770,)"
      ]
     },
     "execution_count": 22,
     "metadata": {},
     "output_type": "execute_result"
    }
   ],
   "source": [
    "pred_arr.shape"
   ]
  },
  {
   "cell_type": "code",
   "execution_count": 28,
   "id": "276217f1",
   "metadata": {},
   "outputs": [
    {
     "data": {
      "text/plain": [
       "(3770,)"
      ]
     },
     "execution_count": 28,
     "metadata": {},
     "output_type": "execute_result"
    }
   ],
   "source": [
    "test_nodes[0].shape"
   ]
  },
  {
   "cell_type": "code",
   "execution_count": 32,
   "id": "68f9ba13",
   "metadata": {},
   "outputs": [
    {
     "data": {
      "text/html": [
       "<div>\n",
       "<style scoped>\n",
       "    .dataframe tbody tr th:only-of-type {\n",
       "        vertical-align: middle;\n",
       "    }\n",
       "\n",
       "    .dataframe tbody tr th {\n",
       "        vertical-align: top;\n",
       "    }\n",
       "\n",
       "    .dataframe thead th {\n",
       "        text-align: right;\n",
       "    }\n",
       "</style>\n",
       "<table border=\"1\" class=\"dataframe\">\n",
       "  <thead>\n",
       "    <tr style=\"text-align: right;\">\n",
       "      <th></th>\n",
       "      <th>node_id</th>\n",
       "      <th>predicted_label</th>\n",
       "    </tr>\n",
       "  </thead>\n",
       "  <tbody>\n",
       "    <tr>\n",
       "      <th>0</th>\n",
       "      <td>2</td>\n",
       "      <td>0</td>\n",
       "    </tr>\n",
       "    <tr>\n",
       "      <th>1</th>\n",
       "      <td>17</td>\n",
       "      <td>0</td>\n",
       "    </tr>\n",
       "    <tr>\n",
       "      <th>2</th>\n",
       "      <td>18</td>\n",
       "      <td>0</td>\n",
       "    </tr>\n",
       "    <tr>\n",
       "      <th>3</th>\n",
       "      <td>21</td>\n",
       "      <td>0</td>\n",
       "    </tr>\n",
       "    <tr>\n",
       "      <th>4</th>\n",
       "      <td>32</td>\n",
       "      <td>0</td>\n",
       "    </tr>\n",
       "  </tbody>\n",
       "</table>\n",
       "</div>"
      ],
      "text/plain": [
       "   node_id  predicted_label\n",
       "0        2                0\n",
       "1       17                0\n",
       "2       18                0\n",
       "3       21                0\n",
       "4       32                0"
      ]
     },
     "execution_count": 32,
     "metadata": {},
     "output_type": "execute_result"
    }
   ],
   "source": [
    "pred_df = pd.DataFrame({'node_id': test_nodes[0], 'predicted_label': pred_arr})\n",
    "pred_df.head()"
   ]
  },
  {
   "cell_type": "code",
   "execution_count": 33,
   "id": "609133fc",
   "metadata": {},
   "outputs": [],
   "source": [
    "pred_df.to_csv(\"predictions_test_APPNP_feature.csv\")"
   ]
  },
  {
   "cell_type": "code",
   "execution_count": null,
   "id": "2ec1223c",
   "metadata": {},
   "outputs": [],
   "source": []
  }
 ],
 "metadata": {
  "kernel_info": {
   "name": "azureml_py38_pytorch"
  },
  "kernelspec": {
   "display_name": "Python 3",
   "language": "python",
   "name": "python3"
  },
  "language_info": {
   "codemirror_mode": {
    "name": "ipython",
    "version": 3
   },
   "file_extension": ".py",
   "mimetype": "text/x-python",
   "name": "python",
   "nbconvert_exporter": "python",
   "pygments_lexer": "ipython3",
   "version": "3.8.8"
  },
  "nteract": {
   "version": "nteract-front-end@1.0.0"
  }
 },
 "nbformat": 4,
 "nbformat_minor": 5
}
